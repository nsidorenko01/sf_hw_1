{
 "cells": [
  {
   "cell_type": "code",
   "execution_count": 2,
   "metadata": {},
   "outputs": [
    {
     "name": "stdout",
     "output_type": "stream",
     "text": [
      "Run benchmarking for guess_number: Ваш алгоритм угадывает число в среднем за: 4 попытки\n"
     ]
    }
   ],
   "source": [
    "import numpy as np\n",
    "\n",
    "def score_game(random_predict) -> int:\n",
    "    \"\"\"За какое количество попыток в среднем за 10000 подходов угадывает наш алгоритм\n",
    "\n",
    "    Args:\n",
    "        random_predict ([type]): функция угадывания\n",
    "\n",
    "    Returns:\n",
    "        int: среднее количество попыток\n",
    "    \"\"\"\n",
    "    count_ls = []\n",
    "    #np.random.seed(1)  # фиксируем сид для воспроизводимости\n",
    "    random_array = np.random.randint(1, 101, size=(1000))  # загадали список чисел\n",
    "\n",
    "    for number in random_array:\n",
    "        count_ls.append(random_predict(number))\n",
    "\n",
    "    score = int(np.mean(count_ls))\n",
    "    print(f\"Ваш алгоритм угадывает число в среднем за: {score} попытки\")\n",
    "    \n",
    "def guess_number(target):\n",
    "    low = 1\n",
    "    high = 100\n",
    "    guess = (low + high) // 2\n",
    "    attempts = 0\n",
    "\n",
    "    while guess != target:\n",
    "        attempts += 1\n",
    "\n",
    "        if guess < target:\n",
    "            low = guess + 1\n",
    "        else:\n",
    "            high = guess - 1\n",
    "\n",
    "        guess = (low + high) // 2\n",
    "\n",
    "    return attempts\n",
    "\n",
    "print('Run benchmarking for guess_number: ', end='')\n",
    "score_game(guess_number)"
   ]
  }
 ],
 "metadata": {
  "kernelspec": {
   "display_name": "Python 3",
   "language": "python",
   "name": "python3"
  },
  "language_info": {
   "codemirror_mode": {
    "name": "ipython",
    "version": 3
   },
   "file_extension": ".py",
   "mimetype": "text/x-python",
   "name": "python",
   "nbconvert_exporter": "python",
   "pygments_lexer": "ipython3",
   "version": "3.11.5"
  },
  "orig_nbformat": 4
 },
 "nbformat": 4,
 "nbformat_minor": 2
}

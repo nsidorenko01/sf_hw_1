{
 "cells": [
  {
   "cell_type": "markdown",
   "metadata": {},
   "source": [
    "# Угадай число"
   ]
  },
  {
   "cell_type": "markdown",
   "metadata": {},
   "source": [
    "Нужно написать программу, которая угадывает число за минимальное число попыток.\n",
    "\n",
    "## Условия соревнования\n",
    "- Компьютер загадывает целое число от 1 до 100, и нам его нужно угадать. Под «угадать», подразумевается «написать программу, которая угадывает число».    \n",
    "- Алгоритм учитывает информацию о том, больше ли случайное число или меньше нужного нам.\n",
    "- Необходимо добиться того, чтобы программа угадывала число меньше, чем за 20 попыток.\n"
   ]
  },
  {
   "cell_type": "markdown",
   "metadata": {},
   "source": [
    "## Решения автора данного ноутбука\n",
    "\n",
    "Импортируем необходимую библиотеку для дальнейшей работы с кодом"
   ]
  },
  {
   "cell_type": "code",
   "execution_count": 1,
   "metadata": {},
   "outputs": [],
   "source": [
    "import numpy as  np"
   ]
  },
  {
   "cell_type": "markdown",
   "metadata": {},
   "source": [
    "## Подход №1. Сокращение интервала поиска\n",
    "\n",
    "Описание подхода:\n",
    "- находим середину исходного интервала;\n",
    "- смотрим, больше или меньше загаданное число данной середины;\n",
    "- в зависимости от предыдущего пункта, меняем границы для интервала, сокращая его до более точного;\n",
    "- повторяем предыдущие пункты, пока не получим загаднное число."
   ]
  },
  {
   "cell_type": "code",
   "execution_count": 5,
   "metadata": {},
   "outputs": [
    {
     "data": {
      "text/plain": [
       "5"
      ]
     },
     "execution_count": 5,
     "metadata": {},
     "output_type": "execute_result"
    }
   ],
   "source": [
    "def game_core_v3(number: int = 1) -> int:\n",
    "    \"\"\" Находим середину интервала, в котором может быть расположено загаданное число, затем с каждый итерацией уменьшаем данный интервал до момента, пока не останется нужное число\n",
    "\n",
    "    Args:\n",
    "        number (int, optional): Загаданное число. Defaults to 1.\n",
    "\n",
    "    Returns:\n",
    "        int: Число попыток\n",
    "    \"\"\"\n",
    "    lower_bound = 1 # задаем нижнюю границу первого интервала\n",
    "    higher_bound = 100 # задаем верхнюю границу первого интервала\n",
    "    predict = (lower_bound + higher_bound) // 2 # находим середину первого интервала\n",
    "    count = 0 \n",
    "    \n",
    "    # пока не найдем загаданное число, меняем границы интервалов, приближая их к загаданному числу\n",
    "    while number != predict: \n",
    "        count += 1\n",
    "        \n",
    "        if predict > number:\n",
    "            higher_bound = predict - 1\n",
    "        else:\n",
    "            lower_bound = predict + 1\n",
    "            \n",
    "        predict = (lower_bound + higher_bound) // 2\n",
    "        \n",
    "    return count"
   ]
  },
  {
   "cell_type": "code",
   "execution_count": null,
   "metadata": {},
   "outputs": [],
   "source": [
    "def guess_number(target):\n",
    "    low = 1\n",
    "    high = 100\n",
    "    guess = (low + high) // 2\n",
    "    attempts = 0\n",
    "\n",
    "    while guess != target:\n",
    "        attempts += 1\n",
    "\n",
    "        if guess < target:\n",
    "            low = guess + 1\n",
    "        else:\n",
    "            high = guess - 1\n",
    "\n",
    "        guess = (low + high) // 2\n",
    "\n",
    "    return attempts"
   ]
  },
  {
   "cell_type": "code",
   "execution_count": 2,
   "metadata": {},
   "outputs": [
    {
     "name": "stdout",
     "output_type": "stream",
     "text": [
      "Run benchmarking for guess_number: Ваш алгоритм угадывает число в среднем за: 4 попытки\n"
     ]
    }
   ],
   "source": [
    "import numpy as np\n",
    "\n",
    "def score_game(random_predict) -> int:\n",
    "    \"\"\"За какое количество попыток в среднем за 10000 подходов угадывает наш алгоритм\n",
    "\n",
    "    Args:\n",
    "        random_predict ([type]): функция угадывания\n",
    "\n",
    "    Returns:\n",
    "        int: среднее количество попыток\n",
    "    \"\"\"\n",
    "    count_ls = []\n",
    "    #np.random.seed(1)  # фиксируем сид для воспроизводимости\n",
    "    random_array = np.random.randint(1, 101, size=(1000))  # загадали список чисел\n",
    "\n",
    "    for number in random_array:\n",
    "        count_ls.append(random_predict(number))\n",
    "\n",
    "    score = int(np.mean(count_ls))\n",
    "    print(f\"Ваш алгоритм угадывает число в среднем за: {score} попытки\")\n",
    "    \n",
    "\n",
    "\n",
    "print('Run benchmarking for guess_number: ', end='')\n",
    "score_game(guess_number)"
   ]
  }
 ],
 "metadata": {
  "kernelspec": {
   "display_name": "Python 3",
   "language": "python",
   "name": "python3"
  },
  "language_info": {
   "codemirror_mode": {
    "name": "ipython",
    "version": 3
   },
   "file_extension": ".py",
   "mimetype": "text/x-python",
   "name": "python",
   "nbconvert_exporter": "python",
   "pygments_lexer": "ipython3",
   "version": "3.11.5"
  },
  "orig_nbformat": 4
 },
 "nbformat": 4,
 "nbformat_minor": 2
}
